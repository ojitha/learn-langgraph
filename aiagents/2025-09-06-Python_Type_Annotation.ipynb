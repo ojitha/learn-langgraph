{
 "cells": [
  {
   "cell_type": "markdown",
   "id": "bdce2b5c",
   "metadata": {},
   "source": [
    "---\n",
    "layout: post\n",
    "title:  Structured Model for AI\n",
    "date:   2025-09-06\n",
    "categories: [Python, AI]\n",
    "mermaid: true\n",
    "typora-root-url: /Users/ojitha/GitHub/ojitha.github.io\n",
    "typora-copy-images-to: ../assets/images/${filename}\n",
    "---\n",
    "\n",
    "Breif introduction\n",
    "\n",
    "<!--more-->\n",
    "\n",
    "------\n",
    "\n",
    "* TOC\n",
    "{:toc}\n",
    "------\n",
    "\n",
    "## Introduction\n",
    "I'll dive into researching why Python type annotations are particularly important for AI agent development with frameworks like LangGraph and AutoGen. This is a great technical question that touches on both software engineering best practices and the specific needs of AI agent frameworks.\n",
    "\n",
    "Type annotations have evolved from optional documentation to architectural foundations in AI agent development, enabling \n",
    "- automatic schema generation, \n",
    "- runtime validation, and \n",
    "- sophisticated error handling \n",
    "\n",
    "that traditional Python development rarely requires. Modern AI frameworks like LangGraph and AutoGen depend on type annotations not just for developer experience, but for core functionality including \n",
    "- tool registration, \n",
    "- state management, and \n",
    "- LLM integration\n",
    "\n",
    "Unlike typical Python applications, AI agents must seamlessly translate between Python objects and JSON schemas for LLM function calling, manage *complex conversational state across multiple interactions, and handle unpredictable inputs from language models*.\n",
    "Pydantic AI[^1] Type annotations provide the metadata and contracts necessary to make these translations reliable, automatic, and error-free.\n",
    "\n",
    "```mermaid\n",
    "---\n",
    "config:\n",
    "  securityLevel: loose\n",
    "  theme: forest\n",
    "  look: handDrawn\n",
    "---\n",
    "mindmap\n",
    "  ((\"Type \n",
    "  Annotation\"))\n",
    "    [\"1 Tool and Function Schema Definition\"]\n",
    "    [\"2 Structured Data Flow Between Agents\"]\n",
    "    [\"3 LangGraph State Management\"]\n",
    "    [\"4 Runtime Validation and Error Prevention\"]\n",
    "    [\"5 LLM Function Calling Integration\"]\n",
    "```\n",
    "\n",
    "Python type annotations play a crucial role in AI agent development, especially with frameworks like LangGraph and AutoGen:\n",
    "\n",
    "1. Tool and Function Schema Definition: AI agents frequently need to call external tools and functions. Type annotations provide the schema information that frameworks\n",
    "\n",
    "```python\n",
    "from typing import List, Dict\n",
    "from pydantic import BaseModel\n",
    "\n",
    "class WeatherQuery(BaseModel):\n",
    "    location: str\n",
    "    days: int = 1\n",
    "\n",
    "def get_weather(query: WeatherQuery) -> Dict[str, any]:\n",
    "    \"\"\"Get weather information for a location\"\"\"\n",
    "    # Implementation here\n",
    "    pass\n",
    "```\n",
    "The framework can automatically generate OpenAPI schemas or function calling specifications from these annotations, which LLMs need to understand how to invoke tools correctly.\n",
    "\n",
    "2. Structured Data Flow Between Agents: In multi-agent systems like AutoGen, agents pass structured data between each other. Type annotations ensure:\n",
    "\n",
    "```python\n",
    "from dataclasses import dataclass\n",
    "from typing import Optional\n",
    "\n",
    "@dataclass\n",
    "class AgentMessage:\n",
    "    content: str\n",
    "    sender: str\n",
    "    message_type: str\n",
    "    metadata: Optional[Dict[str, any]] = None\n",
    "\n",
    "def process_agent_response(message: AgentMessage) -> AgentMessage:\n",
    "    # Framework knows exactly what structure to expect\n",
    "    pass\n",
    "```\n",
    "The framework can automatically generate OpenAPI schemas or function calling specifications from these annotations, which LLMs need to understand how to invoke tools correctly.\n",
    "\n",
    "3. LangGraph State Management: LangGraph uses typed state objects to manage data flow through graph nodes.\n",
    "\n",
    "```python\n",
    "from typing import TypedDict, List\n",
    "from langgraph.graph import StateGraph\n",
    "\n",
    "class AgentState(TypedDict):\n",
    "    messages: List[str]\n",
    "    current_step: str\n",
    "    context: Dict[str, any]\n",
    "    \n",
    "def reasoning_node(state: AgentState) -> AgentState:\n",
    "    # LangGraph validates state structure automatically\n",
    "    return {\n",
    "        \"messages\": state[\"messages\"] + [\"New reasoning step\"],\n",
    "        \"current_step\": \"analysis\",\n",
    "        \"context\": state[\"context\"]\n",
    "    }\n",
    "```\n",
    "4. Runtime Validation and Error Prevention: Type annotations enable runtime validation libraries like Pydantic to catch errors early:\n",
    "\n",
    "```python\n",
    "from pydantic import BaseModel, validator\n",
    "\n",
    "class LLMResponse(BaseModel):\n",
    "    reasoning: str\n",
    "    confidence: float\n",
    "    next_action: str\n",
    "    \n",
    "    @validator('confidence')\n",
    "    def confidence_must_be_valid(cls, v):\n",
    "        if not 0 <= v <= 1:\n",
    "            raise ValueError('Confidence must be between 0 and 1')\n",
    "        return v\n",
    "```\n",
    "\n",
    "5. LLM Function Calling Integration: Modern LLMs support function calling, and frameworks automatically convert type annotations to JSON schemas:\n",
    "\n",
    "```pyhton\n",
    "def search_database(\n",
    "    query: str,\n",
    "    filters: Dict[str, str],\n",
    "    limit: int = 10\n",
    ") -> List[Dict[str, any]]:\n",
    "    \"\"\"Search database with specified filters\"\"\"\n",
    "    pass\n",
    "\n",
    "# Framework auto-generates:\n",
    "# {\n",
    "#   \"name\": \"search_database\",\n",
    "#   \"parameters\": {\n",
    "#     \"type\": \"object\",\n",
    "#     \"properties\": {\n",
    "#       \"query\": {\"type\": \"string\"},\n",
    "#       \"filters\": {\"type\": \"object\"},\n",
    "#       \"limit\": {\"type\": \"integer\", \"default\": 10}\n",
    "#     }\n",
    "#   }\n",
    "# }\n",
    "```\n",
    "\n",
    "### AI demands typing\n",
    "\n",
    "AI agent development presents unique challenges that make type *annotations essential rather than optional*. <span>**State persistence across conversations** requires precise data contracts</span>{:gtxt} - a chat agent might maintain user context, conversation history, tool results, and metadata across multiple exchanges. *Without typing, state corruption becomes inevitable as different components make incompatible assumptions about data structures*{:rtxt}.\n",
    "\n",
    "**LLM integration introduces unpredictability** that typed interfaces help contain. Language models can return unexpected JSON structures, miss required fields, or provide data in wrong formats.\n",
    "\n",
    "> Type validation catches these issues immediately rather than allowing them to propagate through the system, causing failures in downstream components. \n",
    "{:.green}\n",
    "\n",
    "**Tool and function calling** represents perhaps the most critical difference. AI agents must dynamically convert Python function signatures to JSON schemas that LLMs can understand and invoke. This translation process relies entirely on type annotations - without them, automatic schema generation becomes impossible, forcing developers into manual JSON schema maintenance that quickly becomes unwieldy.\n"
   ]
  },
  {
   "cell_type": "markdown",
   "id": "1f6cc048",
   "metadata": {},
   "source": [
    "## Type Hints\n",
    "\n",
    "1. Simple types like int, float, str, and bytes may be used directly in type hints.\n",
    "2. Concrete classes from the standard library, external packages, or user defined may also be used in type hints.\n",
    "3. As of Python 3.10, there is no good way to annotate `array.array`.\n",
    "4. Generic types can be declared with type parameters\n",
    "5. To provide the initial support for generic type hints, the authors of PEP 484 created dozens of generic types in the typing module such as `typing.List`, `typing.Set` and so on.\n",
    "6. In practice, if you want to annotate numeric arguments for static type checking, use one of the concrete types `int`, `float`, or `complex`—as recommended by PEP 488.\n",
    "\n",
    "I am using the following version of Python to create this post:"
   ]
  },
  {
   "cell_type": "code",
   "execution_count": 11,
   "id": "5a0a4906",
   "metadata": {
    "tags": [
     "remove_input"
    ]
   },
   "outputs": [
    {
     "name": "stdout",
     "output_type": "stream",
     "text": [
      "Python 3.12.11\n"
     ]
    }
   ],
   "source": [
    "%%bash\n",
    "Python -V"
   ]
  },
  {
   "cell_type": "markdown",
   "id": "eb6557dd",
   "metadata": {},
   "source": [
    "Current project settings are:"
   ]
  },
  {
   "cell_type": "code",
   "execution_count": 18,
   "id": "709bdef2",
   "metadata": {
    "tags": [
     "remove_input"
    ]
   },
   "outputs": [
    {
     "name": "stdout",
     "output_type": "stream",
     "text": [
      "pyproject.tom is \n",
      " {\n",
      "    \"project\": {\n",
      "        \"name\": \"python\",\n",
      "        \"version\": \"0.1.0\",\n",
      "        \"description\": \"Add your description here\",\n",
      "        \"readme\": \"README.md\",\n",
      "        \"requires-python\": \">=3.12.11\",\n",
      "        \"dependencies\": [\n",
      "            \"aiohttp>=3.12.15\",\n",
      "            \"ipykernel>=6.30.1\",\n",
      "            \"jupyter>=1.1.1\",\n",
      "            \"pydantic>=2.11.7\"\n",
      "        ]\n",
      "    }\n",
      "}\n"
     ]
    }
   ],
   "source": [
    "import tomllib\n",
    "import json\n",
    "\n",
    "with open(\"../pyproject.toml\", \"rb\") as f:\n",
    "    data = json.dumps(tomllib.load(f), indent=4)\n",
    "\n",
    "print(f'pyproject.tom is \\n {data}')    "
   ]
  },
  {
   "cell_type": "markdown",
   "id": "14bd6a06",
   "metadata": {},
   "source": [
    "Load the API keys:"
   ]
  },
  {
   "cell_type": "code",
   "execution_count": null,
   "id": "681b10aa",
   "metadata": {},
   "outputs": [],
   "source": [
    "%load_ext dotenv\n",
    "%dotenv ../../../.env"
   ]
  },
  {
   "cell_type": "markdown",
   "id": "cb649f50",
   "metadata": {},
   "source": [
    "In the following code you have to use `Optional[str] = None`, otherwise, `None` is not assignable."
   ]
  },
  {
   "cell_type": "code",
   "execution_count": null,
   "id": "e9b77860",
   "metadata": {},
   "outputs": [],
   "source": [
    "from typing import Optional\n",
    "def method(a: int, b: str, c: Optional[str] = None) -> str:\n",
    "    return \"...\""
   ]
  },
  {
   "cell_type": "markdown",
   "id": "d22cdcfb",
   "metadata": {},
   "source": [
    "Python 3.10 added support for using `|` to indicate alternative types, as a more readable, concise alternative to the `Union[atype, btype, ...]` notation. The `|` operator[^3] can also be used to replace `Optional[atype]` with `atype |` None."
   ]
  },
  {
   "cell_type": "code",
   "execution_count": 13,
   "id": "b3e020e2",
   "metadata": {},
   "outputs": [],
   "source": [
    "def method(a: int, b: str, c: str | None = None) -> str:\n",
    "    return \"...\""
   ]
  },
  {
   "cell_type": "markdown",
   "id": "1623fd2c",
   "metadata": {},
   "source": [
    "### Important Annotations\n",
    "Major types[^2] you can use with annotations\n",
    "\n",
    "- `typing.Any`\n",
    "- Simple types and classes\n",
    "- `typing.Optional` and `typing.Union`\n",
    "- Generic collections, including tuples and mappings\n",
    "- Abstract base classes\n",
    "- Generic iterables\n",
    "- Parameterized generics and `TypeVar`\n",
    "- `typing.Protocols`—the key to _static duck typing_\n",
    "- `typing.Callable`\n",
    "- `typing.NoReturn`—a good way to end this list\n"
   ]
  },
  {
   "cell_type": "code",
   "execution_count": 3,
   "id": "65a01f57",
   "metadata": {},
   "outputs": [],
   "source": [
    "from typing import Callable \n",
    "str_predicate_function: Callable[[str | bytes], bool]"
   ]
  },
  {
   "cell_type": "markdown",
   "id": "c65e7bcd",
   "metadata": {},
   "source": [
    "#### Any Type\n",
    "The type checker assumes the `Any` type when it cannot determine the type of an object but *does not catch type errors at runtime*. Therefore, *annotations are always optional at all the levels*{:gtxt}.\n",
    "\n",
    "> The Any type is considered compatible with all other types.\n",
    "{:.green}\n",
    "\n",
    "`Any` is a magic type that sits at the top and the bottom of the type hierarchy."
   ]
  },
  {
   "cell_type": "code",
   "execution_count": null,
   "id": "59f59ec6",
   "metadata": {},
   "outputs": [],
   "source": [
    "from typing import Any\n",
    "\n",
    "def method(a: Any) -> Any:\n",
    "    return \"...\""
   ]
  },
  {
   "cell_type": "markdown",
   "id": "4cf711ac",
   "metadata": {},
   "source": [
    "But if you run the following, you get the type checking warning: <span>Operator \"*\" not supported for types \"object\" and \"Literal[2]\"</span>{:rtxt}.\n",
    "\n",
    "> `None` is a special type that represents the absence of a value. It is a subtype of any other type, including itself."
   ]
  },
  {
   "cell_type": "code",
   "execution_count": null,
   "id": "4a77268a",
   "metadata": {},
   "outputs": [],
   "source": [
    "def method(a: object) -> object:\n",
    "    return a * 2 # warning "
   ]
  },
  {
   "cell_type": "markdown",
   "id": "6af92374",
   "metadata": {},
   "source": [
    "#### Tuple Types\n",
    "\n",
    "Ways to annotate tuple types:\n",
    "\n",
    "1. Tuples as records\n",
    "2. Tuples as records with named fields\n",
    "3. Tuples as immutable sequences\n",
    "\n",
    " Tuples as records:"
   ]
  },
  {
   "cell_type": "code",
   "execution_count": 15,
   "id": "98ea96f2",
   "metadata": {},
   "outputs": [],
   "source": [
    "employee: tuple[str, int] = (\"John Doe\", 30)  # tuple of string and integer"
   ]
  },
  {
   "cell_type": "code",
   "execution_count": null,
   "id": "cd840c80",
   "metadata": {},
   "outputs": [],
   "source": [
    "t: tuple[int, str, float] = (1, 'book', 3.14)  # tuple of int, string, and float"
   ]
  },
  {
   "cell_type": "markdown",
   "id": "eb67f66c",
   "metadata": {},
   "source": [
    "Tuples as records with named fields:"
   ]
  },
  {
   "cell_type": "code",
   "execution_count": 25,
   "id": "93853817",
   "metadata": {},
   "outputs": [
    {
     "name": "stdout",
     "output_type": "stream",
     "text": [
      "Book: Fluent Python, 3rd Edition, Price: 129.99, ID: 12345\n"
     ]
    }
   ],
   "source": [
    "from typing import NamedTuple\n",
    "\n",
    "class Item(NamedTuple):\n",
    "    name: str\n",
    "    price: float\n",
    "    id: int\n",
    "    \n",
    "def accessBook(book: Item) -> None:\n",
    "    print(f\"Book: {book.name}, Price: {book.price}, ID: {book.id}\") \n",
    "\n",
    "item = Item(\"Fluent Python, 3rd Edition\", 129.99, 12345)\n",
    "accessBook(item)\n",
    "       "
   ]
  },
  {
   "cell_type": "markdown",
   "id": "a3df1666",
   "metadata": {},
   "source": [
    "Tuples as immutable sequences:\n",
    "\n",
    "> The annotations `stuff: tuple[Any, ...]` and `stuff: tuple` mean the same thing: stuff is a tuple of unspecified length with objects of any type."
   ]
  },
  {
   "cell_type": "code",
   "execution_count": null,
   "id": "db3e538a",
   "metadata": {},
   "outputs": [
    {
     "name": "stdout",
     "output_type": "stream",
     "text": [
      "('drake', 'fawn', 'heron', 'ibex', 'koala', 'lynx', 'tahr', 'xerus', 'yak', 'zapus')\n"
     ]
    }
   ],
   "source": [
    "def findAnimals(animals: str) -> tuple[str, ...]:\n",
    "    return tuple(animals.split())\n",
    "\n",
    "animal_string = 'drake fawn heron ibex koala lynx tahr xerus yak zapus'.split()\n",
    "print(findAnimals(' '.join(animal_string)))"
   ]
  },
  {
   "cell_type": "markdown",
   "id": "ee92af6f",
   "metadata": {},
   "source": [
    "> The annotations `stuff: list` and `stuff: list[Any]` is the same.\n",
    "\n",
    "#### Mappings\n",
    "\n",
    "Generic mapping types are annotated as `MappingType[KeyType, ValueType]`. In general it’s better to use abstract classes such as `abc.Mapping` or `abc.MutableMapping` in parameter type hints, instead of `dict` (or `typing.Dict` in legacy code for the versions before the Python 3.9). Remember that most ABCs from `collections.abc` and other concrete classes from collections, as well as built-in collections, support generic type hint notation like `collections.deque[str]` starting with Python 3.9.\n",
    "\n",
    "> The corresponding `typing` collections are only needed to support code written in Python 3.8 or earlier.\n",
    "{:.yellow}\n",
    "\n",
    "**TypeAlias** is a special annotation introduced in Python 3.10 (PEP 613) that explicitly marks a variable assignment as creating a type alias. It helps clarify intent and improves type checker support."
   ]
  },
  {
   "cell_type": "code",
   "execution_count": 34,
   "id": "f6d1f164",
   "metadata": {},
   "outputs": [],
   "source": [
    "from typing import TypeAlias\n",
    "\n",
    "# Explicitly mark as type alias\n",
    "UserId: TypeAlias = int\n",
    "Matrix: TypeAlias = list[list[float]] # demostration only\n",
    "\n",
    "# Use the aliases\n",
    "def get_user(user_id: UserId) -> dict[str, UserId | str]:\n",
    "    return {\"id\": user_id, \"name\": \"John\"}"
   ]
  },
  {
   "cell_type": "markdown",
   "id": "fb365775",
   "metadata": {},
   "source": [
    "## TypedDict\n",
    "\n",
    "It’s tempting to use `TypedDict` to protect against errors while handling dynamic data structures like JSON API responses. Although syntatically `TypeDict` is similar to the `typing.NamedTuple` it is different:"
   ]
  },
  {
   "cell_type": "code",
   "execution_count": 29,
   "id": "15284606",
   "metadata": {},
   "outputs": [
    {
     "data": {
      "text/plain": [
       "{'title': 'Fluent Python, 2nd Edition',\n",
       " 'authors': ['Luciano Ramalho'],\n",
       " 'year': 2022,\n",
       " 'price': 129.99}"
      ]
     },
     "execution_count": 29,
     "metadata": {},
     "output_type": "execute_result"
    }
   ],
   "source": [
    "from typing import TypedDict\n",
    "\n",
    "class Book(TypedDict):\n",
    "    title: str\n",
    "    authors: list[str]\n",
    "    year: int\n",
    "    price: float\n",
    "\n",
    "fluent_python: Book = Book(\n",
    "    title=\"Fluent Python, 2nd Edition\",\n",
    "    authors=[\"Luciano Ramalho\"],\n",
    "    year=2022,\n",
    "    price=129.99\n",
    ")\n",
    "# In the runtime, TypeDict is a regular dict, so you can use it as such:\n",
    "fluent_python"
   ]
  },
  {
   "cell_type": "markdown",
   "id": "71925805",
   "metadata": {},
   "source": [
    "## Pydantic\n",
    "\n",
    "Pydantic[^4] is a Python library that provides data validation and serialization using Python type hints. Here are its main uses and benefits:\n",
    "- **Data validation**: Automatically validates data types and formats\n",
    "- **Type safety**: Enforces type annotations at runtime\n",
    "- **Data parsing**: Converts and coerces data types when possible\n",
    "- **Serialization**: Converts Python objects to JSON/dict and vice versa"
   ]
  },
  {
   "cell_type": "code",
   "execution_count": 28,
   "id": "4a722c23",
   "metadata": {},
   "outputs": [
    {
     "name": "stdout",
     "output_type": "stream",
     "text": [
      "user.user_id = 123\n",
      "{'addresses': [{'city': 'NYC', 'country': 'USA', 'street': '123 Main St'},\n",
      "               {'city': 'LA', 'country': 'USA', 'street': '456 Elm St'}],\n",
      " 'age': None,\n",
      " 'email': 'john@email.com',\n",
      " 'name': 'John',\n",
      " 'user_id': 123}\n"
     ]
    }
   ],
   "source": [
    "from pydantic import BaseModel\n",
    "from typing import Optional\n",
    "from pprint import pprint\n",
    "\n",
    "class Address(BaseModel):\n",
    "    street: str\n",
    "    city: str\n",
    "    country: str\n",
    "    \n",
    "class Person(BaseModel):\n",
    "    name: str\n",
    "    age: Optional[int] = None\n",
    "    addresses: list[Address]\n",
    "\n",
    "class User(Person):\n",
    "    user_id: int\n",
    "    email: str\n",
    "\n",
    "address_1 = Address(street=\"123 Main St\", city=\"NYC\", country=\"USA\")\n",
    "address_2 = Address(street=\"456 Elm St\", city=\"LA\", country=\"USA\")\n",
    "\n",
    "# Automatic validation\n",
    "user = User(user_id=\"123\"\n",
    "            , name=\"John\"\n",
    "            , email=\"john@email.com\"\n",
    "            , addresses=[address_1, address_2])\n",
    "\n",
    "\n",
    "print(f'{user.user_id = }')\n",
    "pprint(user.model_dump())  "
   ]
  },
  {
   "cell_type": "markdown",
   "id": "8b486533",
   "metadata": {},
   "source": [
    "Here the class hierarchy:\n",
    "\n",
    "```mermaid\n",
    "classDiagram\n",
    "    class object\n",
    "    class BaseModel\n",
    "    class Person\n",
    "    class User\n",
    "    \n",
    "    object <|-- BaseModel\n",
    "    BaseModel <|-- Person\n",
    "    Person <|-- User\n",
    "```"
   ]
  },
  {
   "cell_type": "code",
   "execution_count": 29,
   "id": "dd654104",
   "metadata": {},
   "outputs": [
    {
     "name": "stdout",
     "output_type": "stream",
     "text": [
      "__main__.User\n",
      "__main__.Person\n",
      "pydantic.main.BaseModel\n",
      "builtins.object\n"
     ]
    }
   ],
   "source": [
    "for cls in type(user).mro():\n",
    "    print(f'{cls.__module__}.{cls.__name__}')"
   ]
  },
  {
   "cell_type": "markdown",
   "id": "62e52e8a",
   "metadata": {},
   "source": [
    "PyDantic has its own types such as `EmailStr` and validations (eg: `ValidationError`)."
   ]
  },
  {
   "cell_type": "code",
   "execution_count": 10,
   "id": "5ac04e5c",
   "metadata": {},
   "outputs": [],
   "source": [
    "from pydantic import BaseModel, EmailStr, ValidationError\n",
    "\n",
    "class UserRequest(BaseModel):\n",
    "    name: str\n",
    "    email: EmailStr\n",
    "    query: str"
   ]
  },
  {
   "cell_type": "markdown",
   "id": "9f257bdb",
   "metadata": {},
   "source": [
    "In the following defintion, demostrate the valid `UserRequest`:"
   ]
  },
  {
   "cell_type": "code",
   "execution_count": 49,
   "id": "e501b4fe",
   "metadata": {},
   "outputs": [],
   "source": [
    "user_request = UserRequest(\n",
    "    name=\"John Doe\",\n",
    "    email=\"john.d@example.org\",\n",
    "    query=\"How to use Pydantic?\"\n",
    ")\n"
   ]
  },
  {
   "cell_type": "markdown",
   "id": "1e459171",
   "metadata": {},
   "source": [
    "You can validate programmatically:"
   ]
  },
  {
   "cell_type": "code",
   "execution_count": 48,
   "id": "4c8c087d",
   "metadata": {},
   "outputs": [
    {
     "name": "stdout",
     "output_type": "stream",
     "text": [
      "❌ Validation error occurred:\n",
      "  - email: value is not a valid email address: An email address must have an @-sign.\n"
     ]
    }
   ],
   "source": [
    "\n",
    "def validate_input(request: dict[str, str | EmailStr]) -> UserRequest | None  :\n",
    "    try:\n",
    "        # Attempt to create a UserRequest model instance from user input data\n",
    "        input = UserRequest(**request)\n",
    "        print(f\"✅ Valid user request:\")\n",
    "        print(f\"{input.model_dump_json(indent=2)}\")\n",
    "        return input\n",
    "    except ValidationError as e:\n",
    "        # Capture and display validation errors in a readable format\n",
    "        print(f\"❌ Validation error occurred:\")\n",
    "        for error in e.errors():\n",
    "            print(f\"  - {error['loc'][0]}: {error['msg']}\")\n",
    "        return None\n",
    "    \n",
    "user_request_invalid = {\n",
    "    \"name\": \"John Doe\",\n",
    "    \"email\": \"invalid-email\",\n",
    "    \"query\": \"How to use Pydantic?\"\n",
    "}\n",
    "\n",
    "validate_input(user_request_invalid)\n"
   ]
  },
  {
   "cell_type": "markdown",
   "id": "a0d75c8c",
   "metadata": {},
   "source": [
    "Let us recreate the `UserRequest` with name, email and query to the LLM. As you see, user age is optional and between 1 to 150.\n",
    "\n",
    "> Pydantic uses the `Field()` metadata for runtime validation.\n",
    "{:.green}"
   ]
  },
  {
   "cell_type": "code",
   "execution_count": 34,
   "id": "ed46c182",
   "metadata": {},
   "outputs": [],
   "source": [
    "from pydantic import Field\n",
    "from typing import Optional\n",
    "\n",
    "class UserRequest(BaseModel):\n",
    "    name: str\n",
    "    email: EmailStr\n",
    "    query: str\n",
    "    age: Optional[int] = Field(\n",
    "        default=None\n",
    "        , description=\"User age should be > 0 and less than 150\"\n",
    "        , title=\"User age\"\n",
    "        , ge=1\n",
    "        , le=150\n",
    "        )"
   ]
  },
  {
   "cell_type": "markdown",
   "id": "357ae248",
   "metadata": {},
   "source": [
    "Example of invalid `UserRequest`:"
   ]
  },
  {
   "cell_type": "code",
   "execution_count": 35,
   "id": "7d2a5395",
   "metadata": {},
   "outputs": [
    {
     "ename": "ValidationError",
     "evalue": "1 validation error for UserRequest\nage\n  Input should be greater than or equal to 1 [type=greater_than_equal, input_value=0, input_type=int]\n    For further information visit https://errors.pydantic.dev/2.11/v/greater_than_equal",
     "output_type": "error",
     "traceback": [
      "\u001b[31m---------------------------------------------------------------------------\u001b[39m",
      "\u001b[31mValidationError\u001b[39m                           Traceback (most recent call last)",
      "\u001b[36mCell\u001b[39m\u001b[36m \u001b[39m\u001b[32mIn[35]\u001b[39m\u001b[32m, line 1\u001b[39m\n\u001b[32m----> \u001b[39m\u001b[32m1\u001b[39m user_request = \u001b[43mUserRequest\u001b[49m\u001b[43m(\u001b[49m\n\u001b[32m      2\u001b[39m \u001b[43m    \u001b[49m\u001b[43mname\u001b[49m\u001b[43m=\u001b[49m\u001b[33;43m\"\u001b[39;49m\u001b[33;43mJohn Doe\u001b[39;49m\u001b[33;43m\"\u001b[39;49m\u001b[43m,\u001b[49m\n\u001b[32m      3\u001b[39m \u001b[43m    \u001b[49m\u001b[43memail\u001b[49m\u001b[43m=\u001b[49m\u001b[33;43m\"\u001b[39;49m\u001b[33;43mjohn.d@example.org\u001b[39;49m\u001b[33;43m\"\u001b[39;49m\u001b[43m,\u001b[49m\n\u001b[32m      4\u001b[39m \u001b[43m    \u001b[49m\u001b[43mquery\u001b[49m\u001b[43m=\u001b[49m\u001b[33;43m\"\u001b[39;49m\u001b[33;43mHow to use Pydantic?\u001b[39;49m\u001b[33;43m\"\u001b[39;49m\n\u001b[32m      5\u001b[39m \u001b[43m    \u001b[49m\u001b[43m,\u001b[49m\u001b[43m \u001b[49m\u001b[43mage\u001b[49m\u001b[43m=\u001b[49m\u001b[32;43m0\u001b[39;49m\n\u001b[32m      6\u001b[39m \u001b[43m)\u001b[49m\n",
      "\u001b[36mFile \u001b[39m\u001b[32m~/workspace/learn-langgraph/.venv/lib/python3.13/site-packages/pydantic/main.py:253\u001b[39m, in \u001b[36mBaseModel.__init__\u001b[39m\u001b[34m(self, **data)\u001b[39m\n\u001b[32m    251\u001b[39m \u001b[38;5;66;03m# `__tracebackhide__` tells pytest and some other tools to omit this function from tracebacks\u001b[39;00m\n\u001b[32m    252\u001b[39m __tracebackhide__ = \u001b[38;5;28;01mTrue\u001b[39;00m\n\u001b[32m--> \u001b[39m\u001b[32m253\u001b[39m validated_self = \u001b[38;5;28;43mself\u001b[39;49m\u001b[43m.\u001b[49m\u001b[43m__pydantic_validator__\u001b[49m\u001b[43m.\u001b[49m\u001b[43mvalidate_python\u001b[49m\u001b[43m(\u001b[49m\u001b[43mdata\u001b[49m\u001b[43m,\u001b[49m\u001b[43m \u001b[49m\u001b[43mself_instance\u001b[49m\u001b[43m=\u001b[49m\u001b[38;5;28;43mself\u001b[39;49m\u001b[43m)\u001b[49m\n\u001b[32m    254\u001b[39m \u001b[38;5;28;01mif\u001b[39;00m \u001b[38;5;28mself\u001b[39m \u001b[38;5;129;01mis\u001b[39;00m \u001b[38;5;129;01mnot\u001b[39;00m validated_self:\n\u001b[32m    255\u001b[39m     warnings.warn(\n\u001b[32m    256\u001b[39m         \u001b[33m'\u001b[39m\u001b[33mA custom validator is returning a value other than `self`.\u001b[39m\u001b[38;5;130;01m\\n\u001b[39;00m\u001b[33m'\u001b[39m\n\u001b[32m    257\u001b[39m         \u001b[33m\"\u001b[39m\u001b[33mReturning anything other than `self` from a top level model validator isn\u001b[39m\u001b[33m'\u001b[39m\u001b[33mt supported when validating via `__init__`.\u001b[39m\u001b[38;5;130;01m\\n\u001b[39;00m\u001b[33m\"\u001b[39m\n\u001b[32m    258\u001b[39m         \u001b[33m'\u001b[39m\u001b[33mSee the `model_validator` docs (https://docs.pydantic.dev/latest/concepts/validators/#model-validators) for more details.\u001b[39m\u001b[33m'\u001b[39m,\n\u001b[32m    259\u001b[39m         stacklevel=\u001b[32m2\u001b[39m,\n\u001b[32m    260\u001b[39m     )\n",
      "\u001b[31mValidationError\u001b[39m: 1 validation error for UserRequest\nage\n  Input should be greater than or equal to 1 [type=greater_than_equal, input_value=0, input_type=int]\n    For further information visit https://errors.pydantic.dev/2.11/v/greater_than_equal"
     ]
    }
   ],
   "source": [
    "user_request = UserRequest(\n",
    "    name=\"John Doe\",\n",
    "    email=\"john.d@example.org\",\n",
    "    query=\"How to use Pydantic?\"\n",
    "    , age=0\n",
    ")"
   ]
  },
  {
   "cell_type": "markdown",
   "id": "276bf40b",
   "metadata": {},
   "source": [
    "Above `user_request` is invalid because age is 0 which should be greater than 0 as follows:"
   ]
  },
  {
   "cell_type": "code",
   "execution_count": 18,
   "id": "db9f1487",
   "metadata": {},
   "outputs": [
    {
     "data": {
      "text/plain": [
       "'{\"name\":\"John Doe\",\"email\":\"john.d@example.org\",\"query\":\"How to use Pydantic?\"}'"
      ]
     },
     "execution_count": 18,
     "metadata": {},
     "output_type": "execute_result"
    }
   ],
   "source": [
    "user_request = UserRequest(\n",
    "    name=\"John Doe\",\n",
    "    email=\"john.d@example.org\",\n",
    "    query=\"How to use Pydantic?\"\n",
    "    , age=30\n",
    ")\n",
    "\n",
    "user_reqest_json = user_request.model_dump_json()\n",
    "user_reqest_json\n"
   ]
  },
  {
   "cell_type": "markdown",
   "id": "34b56f61",
   "metadata": {},
   "source": [
    "You can check the class structure of the `UserRequest`:"
   ]
  },
  {
   "cell_type": "code",
   "execution_count": null,
   "id": "32cc0115",
   "metadata": {},
   "outputs": [
    {
     "name": "stdout",
     "output_type": "stream",
     "text": [
      "__main__.UserRequest\n",
      "pydantic.main.BaseModel\n",
      "builtins.object\n"
     ]
    }
   ],
   "source": [
    "for cls in type(user_request).mro():\n",
    "    print(f'{cls.__module__}.{cls.__name__}')"
   ]
  },
  {
   "cell_type": "markdown",
   "id": "c7d9485d",
   "metadata": {},
   "source": [
    "You can use `PyDantic_ai` to directly use the models: "
   ]
  },
  {
   "cell_type": "code",
   "execution_count": 30,
   "id": "def159c6",
   "metadata": {},
   "outputs": [],
   "source": [
    "from pydantic_ai import Agent\n",
    "import nest_asyncio\n",
    "nest_asyncio.apply()\n",
    "\n",
    "prompt = \"\"\"\n",
    "You are a helpful assistant. \n",
    "Please provide the user's name, email, and query.\n",
    "\"\"\".strip()\n",
    "\n",
    "agent = Agent(\n",
    "    model=\"gpt-4o-mini\",\n",
    "    output_type=UserRequest,\n",
    ")\n",
    "\n",
    "prompt = (\n",
    "    f\"Analyze the following customer query {user_request} \"\n",
    "    f\"and provide a structured response.\"\n",
    ")\n",
    "response= agent.run_sync(prompt)"
   ]
  },
  {
   "cell_type": "code",
   "execution_count": 32,
   "id": "e2bc9bc9",
   "metadata": {},
   "outputs": [
    {
     "name": "stdout",
     "output_type": "stream",
     "text": [
      "type(response.output) =<class '__main__.UserRequest'>\n",
      "response.output.model_dump_json(indent=2) = '{\\n  \"name\": \"John Doe\",\\n  \"email\": \"john.d@example.org\",\\n  \"query\": \"How to use Pydantic?\"\\n}'\n"
     ]
    }
   ],
   "source": [
    "# Print out the repsonse type and content\n",
    "print(f'{type(response.output) =}'\n",
    "   ,f'{response.output.model_dump_json(indent=2) = }'\n",
    "   ,sep='\\n')"
   ]
  },
  {
   "cell_type": "markdown",
   "id": "3de61001",
   "metadata": {},
   "source": [
    "In the real world, you have have to validate the JSON string such as `user_reqest_json` with `UserRequest` schema:"
   ]
  },
  {
   "cell_type": "code",
   "execution_count": null,
   "id": "11271282",
   "metadata": {},
   "outputs": [
    {
     "data": {
      "text/plain": [
       "UserRequest(name='John Doe', email='john.d@example.org', query='How to use Pydantic?', age=30)"
      ]
     },
     "execution_count": 54,
     "metadata": {},
     "output_type": "execute_result"
    }
   ],
   "source": [
    "UserRequest.model_validate_json(user_reqest_json)"
   ]
  },
  {
   "cell_type": "markdown",
   "id": "94f4a68a",
   "metadata": {},
   "source": [
    "You can print the schema of the model in JSON format:"
   ]
  },
  {
   "cell_type": "code",
   "execution_count": 63,
   "id": "cd4a712c",
   "metadata": {},
   "outputs": [
    {
     "data": {
      "text/plain": [
       "{'properties': {'name': {'title': 'Name', 'type': 'string'},\n",
       "  'email': {'format': 'email', 'title': 'Email', 'type': 'string'},\n",
       "  'query': {'title': 'Query', 'type': 'string'},\n",
       "  'age': {'anyOf': [{'maximum': 150, 'minimum': 1, 'type': 'integer'},\n",
       "    {'type': 'null'}],\n",
       "   'default': None,\n",
       "   'description': 'User age should be > 0 and less than 150',\n",
       "   'title': 'User age'}},\n",
       " 'required': ['name', 'email', 'query'],\n",
       " 'title': 'UserRequest',\n",
       " 'type': 'object'}"
      ]
     },
     "execution_count": 63,
     "metadata": {},
     "output_type": "execute_result"
    }
   ],
   "source": [
    "user_request.model_json_schema()"
   ]
  },
  {
   "cell_type": "markdown",
   "id": "ee8dd30b",
   "metadata": {},
   "source": [
    "The new class which is extended from the `UserRequest` is `UserInput` which has been taken from the very good course [Pydantic for LLM Workflows - DeepLearning.AI][course_1]{:target=\"_blank\"}. The below code shows how to use the `pydantic.field_validator` to validate the `pydantic.Field` defintion:"
   ]
  },
  {
   "cell_type": "code",
   "execution_count": 38,
   "id": "875634a5",
   "metadata": {},
   "outputs": [],
   "source": [
    "# Define your UserInput model\n",
    "from pydantic import field_validator\n",
    "from datetime import date\n",
    "\n",
    "class UserInput(UserRequest):\n",
    "    order_id: Optional[str] = Field(\n",
    "        None,\n",
    "        description=\"Order ID if available (format: ABC-12345)\"\n",
    "    )\n",
    "    # Validate order_id format (e.g., ABC-12345)\n",
    "    @field_validator(\"order_id\")\n",
    "    def validate_order_id(cls, order_id: Optional[str]) -> str | None:\n",
    "        import re\n",
    "        if order_id is None:\n",
    "            return order_id\n",
    "        pattern = r\"^[A-Z]{3}-\\d{5}$\"\n",
    "        if not re.match(pattern, order_id):\n",
    "            raise ValueError(\n",
    "                \"order_id must be in format ABC-12345 \"\n",
    "                \"(3 uppercase letters, dash, 5 digits)\"\n",
    "            )\n",
    "        return order_id\n",
    "    purchase_date: Optional[date] = None\n"
   ]
  },
  {
   "cell_type": "markdown",
   "id": "0868e3b7",
   "metadata": {},
   "source": [
    "Now define the `CustomerQuery` data model as explained in the [Pydantic for LLM Workflows - DeepLearning.AI][course_1]{:target=\"_blank\"}:"
   ]
  },
  {
   "cell_type": "code",
   "execution_count": 40,
   "id": "f01bdc90",
   "metadata": {},
   "outputs": [],
   "source": [
    "from typing import Literal\n",
    "# Define your CustomerQuery model\n",
    "class CustomerQuery(UserInput):\n",
    "    priority: str = Field(\n",
    "        ..., description=\"Priority level: low, medium, high\"\n",
    "    )\n",
    "    category: Literal[\n",
    "        'refund_request', 'information_request', 'other'\n",
    "    ] = Field(..., description=\"Query category\")\n",
    "    is_complaint: bool = Field(\n",
    "        ..., description=\"Whether this is a complaint\"\n",
    "    )\n",
    "    tags: list[str] = Field(..., description=\"Relevant keyword tags\")"
   ]
  },
  {
   "cell_type": "markdown",
   "id": "2fcf87e7",
   "metadata": {},
   "source": [
    "Lets create the customer query (as in the [Pydantic for LLM Workflows - DeepLearning.AI][course_1]{:target=\"_blank\"}):"
   ]
  },
  {
   "cell_type": "code",
   "execution_count": 42,
   "id": "f9fa55bd",
   "metadata": {},
   "outputs": [],
   "source": [
    "# Define a function to call an LLM using Pydantic AI to create an instance of CustomerQuery\n",
    "def create_customer_query(valid_user_json: str) -> CustomerQuery:\n",
    "    customer_query_agent = Agent(\n",
    "        model=\"gpt-4o\",\n",
    "        output_type=CustomerQuery,\n",
    "    )\n",
    "    response = customer_query_agent.run_sync(valid_user_json)\n",
    "    print(\"CustomerQuery generated...\")\n",
    "    return response.output"
   ]
  },
  {
   "cell_type": "markdown",
   "id": "48056be9",
   "metadata": {},
   "source": [
    "Let's create the "
   ]
  },
  {
   "cell_type": "code",
   "execution_count": 47,
   "id": "7a30f618",
   "metadata": {},
   "outputs": [
    {
     "name": "stdout",
     "output_type": "stream",
     "text": [
      "CustomerQuery generated...\n",
      "<class '__main__.CustomerQuery'>\n",
      "{\n",
      "  \"name\": \"John Doe\",\n",
      "  \"email\": \"John.D@example.com\",\n",
      "  \"query\": \"When can I expect delivery of the laptop I ordered?\",\n",
      "  \"age\": null,\n",
      "  \"order_id\": \"ABC-12345\",\n",
      "  \"purchase_date\": \"2025-12-01\",\n",
      "  \"priority\": \"medium\",\n",
      "  \"category\": \"information_request\",\n",
      "  \"is_complaint\": false,\n",
      "  \"tags\": [\n",
      "    \"delivery\",\n",
      "    \"order\",\n",
      "    \"laptop\"\n",
      "  ]\n",
      "}\n"
     ]
    }
   ],
   "source": [
    "# Define user input JSON data\n",
    "user_input_json = '''\n",
    "{\n",
    "    \"name\": \"John Doe\",\n",
    "    \"email\": \"John.D@example.com\",\n",
    "    \"query\": \"When can I expect delivery of the laptop I ordered?\",\n",
    "    \"order_id\": \"ABC-12345\",\n",
    "    \"purchase_date\": \"2025-12-01\"\n",
    "}\n",
    "'''\n",
    "\n",
    "customer_query = create_customer_query(user_input_json)\n",
    "\n",
    "print(type(customer_query))\n",
    "print(customer_query.model_dump_json(indent=2))"
   ]
  },
  {
   "cell_type": "markdown",
   "id": "a33af337",
   "metadata": {},
   "source": [
    "Here the class Hierarcy:\n",
    "\n",
    "```mermaid\n",
    "classDiagram\n",
    "    class object\n",
    "    class BaseModel\n",
    "    class UserRequest\n",
    "    class UserInput\n",
    "    class CustomerQuery\n",
    "    \n",
    "    object <|-- BaseModel\n",
    "    BaseModel <|-- UserRequest\n",
    "    UserRequest <|-- UserInput\n",
    "    UserInput <|-- CustomerQuery\n",
    "```"
   ]
  },
  {
   "cell_type": "code",
   "execution_count": 46,
   "id": "c68aefd8",
   "metadata": {},
   "outputs": [
    {
     "name": "stdout",
     "output_type": "stream",
     "text": [
      "__main__.CustomerQuery\n",
      "__main__.UserInput\n",
      "__main__.UserRequest\n",
      "pydantic.main.BaseModel\n",
      "builtins.object\n"
     ]
    }
   ],
   "source": [
    "for cls in type(customer_query).mro():\n",
    "    print(f'{cls.__module__}.{cls.__name__}')"
   ]
  },
  {
   "cell_type": "markdown",
   "id": "6faccef7",
   "metadata": {},
   "source": [
    "As explain above, key benefits of using PyDantic are:\n",
    "\n",
    "- Runtime Type Checking: Validates data at runtime, not just static analysis\n",
    "- Automatic Coercion: Converts compatible types (string \"123\" → int 123)\n",
    "- Rich Error Messages: Detailed validation error descriptions\n",
    "- JSON Schema Generation: Automatically generates JSON schemas\n",
    "- IDE Support: Full type hints support for better autocomplete\n",
    "- Performance: Fast validation using Rust under the hood (Pydantic v2)"
   ]
  },
  {
   "cell_type": "markdown",
   "id": "b8eb3928",
   "metadata": {},
   "source": [
    "### Annotated\n",
    "Annotated is a special typing construct in Python that allows you to attach metadata to type hints without affecting the actual type checking behavior.\n",
    "\n",
    "The core idea is to separate *type information* (for type checkers like mypy) from metadata (for runtime tools, documentation, validation, etc.). Before Annotated, you had to choose between having clean type hints or adding metadata - you couldn't have both cleanly."
   ]
  },
  {
   "cell_type": "code",
   "execution_count": 51,
   "id": "58b08d42",
   "metadata": {},
   "outputs": [],
   "source": [
    "from typing import Annotated\n",
    "\n",
    "# Basic syntax: Annotated[Type, metadata1, metadata2, ...]\n",
    "UserId = Annotated[int, \"A unique identifier for users\"]"
   ]
  },
  {
   "cell_type": "markdown",
   "id": "8ba867d5",
   "metadata": {},
   "source": [
    "Annotated can be use with the PyDantic:"
   ]
  },
  {
   "cell_type": "code",
   "execution_count": 52,
   "id": "432be469",
   "metadata": {},
   "outputs": [],
   "source": [
    "from typing import Annotated\n",
    "\n",
    "# For validation libraries like Pydantic\n",
    "from pydantic import BaseModel, Field\n",
    "\n",
    "class User(BaseModel):\n",
    "    # Type is 'int', metadata provides validation rules\n",
    "    id: Annotated[int, Field(gt=0, description=\"User ID must be positive\")]\n",
    "    \n",
    "    # Type is 'str', metadata provides constraints  \n",
    "    name: Annotated[str, Field(min_length=1, max_length=100)]\n",
    "    \n",
    "    # Type is 'float', metadata for validation and docs\n",
    "    salary: Annotated[float, Field(ge=0, description=\"Annual salary in USD\")]\n",
    "\n",
    "# Type checkers see: id: int, name: str, salary: float\n",
    "# Pydantic sees the Field metadata for validation\n",
    "# Documentation tools can extract the descriptions"
   ]
  },
  {
   "cell_type": "markdown",
   "id": "79204f5c",
   "metadata": {},
   "source": [
    "The mix of the `Annotated` and `Field` can be used after the PyDantic version 2. \n",
    "\n",
    "BENEFITS OF USING Annotated:\n",
    "- Type checkers see clean types (`int`, `str`) not `Field` objects\n",
    "- Clear separation of type info vs validation metadata\n",
    "- Can combine Pydantic `Field()` with other metadata\n",
    "- More explicit about what's a type vs what's validation\n",
    "- Better IDE support and autocompletion\n",
    "- Future-proof as Python moves toward Annotated\n",
    "\n",
    "For example, will redefine the above `User` class:"
   ]
  },
  {
   "cell_type": "code",
   "execution_count": 53,
   "id": "2d4ed8b2",
   "metadata": {},
   "outputs": [],
   "source": [
    "from typing import Annotated\n",
    "from pydantic import BaseModel, Field, ValidationError\n",
    "import json\n",
    "\n",
    "# Define model with Annotated types containing validation metadata\n",
    "class User(BaseModel):\n",
    "    id: Annotated[int, Field(gt=0, description=\"User ID must be positive\")]\n",
    "    name: Annotated[str, Field(min_length=1, max_length=100, description=\"User's full name\")]\n",
    "    salary: Annotated[float, Field(ge=0, le=1000000, description=\"Annual salary in USD\")]\n",
    "    email: Annotated[str, Field(pattern=r'^[^@]+@[^@]+\\.[^@]+$', description=\"Valid email address\")]\n"
   ]
  },
  {
   "cell_type": "markdown",
   "id": "83f68ed5",
   "metadata": {},
   "source": [
    "Here the valid users:"
   ]
  },
  {
   "cell_type": "code",
   "execution_count": 55,
   "id": "9ac7fddb",
   "metadata": {},
   "outputs": [
    {
     "name": "stdout",
     "output_type": "stream",
     "text": [
      "1. Creating valid users:\n",
      "✅ Valid user created: id=1 name='John Doe' salary=75000.0 email='john.doe@example.com'\n",
      "   JSON: {\"id\":1,\"name\":\"John Doe\",\"salary\":75000.0,\"email\":\"john.doe@example.com\"}\n",
      "\n"
     ]
    }
   ],
   "source": [
    "print(\"1. Creating valid users:\")\n",
    "try:\n",
    "    user1 = User(\n",
    "        id=1,\n",
    "        name=\"John Doe\",\n",
    "        salary=75000.0,\n",
    "        email=\"john.doe@example.com\"\n",
    "    )\n",
    "    print(f\"✅ Valid user created: {user1}\")\n",
    "    print(f\"   JSON: {user1.model_dump_json()}\\n\")\n",
    "except ValidationError as e:\n",
    "    print(f\"❌ Unexpected validation error: {e}\\n\")"
   ]
  },
  {
   "cell_type": "markdown",
   "id": "649fc5a3",
   "metadata": {},
   "source": [
    "## Parameterized Generics and TypeVar\n",
    "A parameterized generic is a generic type, written as `list[T]`, where `T` is a type variable that will be bound to a specific type with each usage.\n",
    "\n",
    "Here the traditional `TypeVar` until the Python 3.12:"
   ]
  },
  {
   "cell_type": "code",
   "execution_count": 51,
   "id": "b9bc2d33",
   "metadata": {},
   "outputs": [],
   "source": [
    "from typing import TypeVar, Generic, List\n",
    "\n",
    "T = TypeVar('T')\n",
    "U = TypeVar('U', bound=str)  # Bounded TypeVar\n",
    "V = TypeVar('V', int, str)   # Constrained TypeVar\n",
    "\n",
    "class Container(Generic[T]):\n",
    "    def __init__(self, value: T) -> None:\n",
    "        self.value = value\n",
    "    \n",
    "    def get(self) -> T:\n",
    "        return self.value\n",
    "\n",
    "def process_items(items: List[T]) -> List[T]:\n",
    "    return items"
   ]
  },
  {
   "cell_type": "markdown",
   "id": "986b3d00",
   "metadata": {},
   "source": [
    "Python 3.12+ Generic **classes** where `TypeVar` is not needed:"
   ]
  },
  {
   "cell_type": "code",
   "execution_count": null,
   "id": "d0f7884a",
   "metadata": {},
   "outputs": [],
   "source": [
    "class Container[T]:\n",
    "    def __init__(self, value: T) -> None:\n",
    "        self.value = value\n",
    "    \n",
    "    def get(self) -> T:\n",
    "        return self.value\n",
    "\n",
    "# Multiple type parameters\n",
    "class Pair[T, U]:\n",
    "    def __init__(self, first: T, second: U) -> None:\n",
    "        self.first = first\n",
    "        self.second = second\n",
    "\n",
    "# Bounded type parameters\n",
    "class NumberContainer[T: (int, float)]:  # T must be int or float\n",
    "    def __init__(self, value: T) -> None:\n",
    "        self.value = value\n",
    "\n",
    "# Upper bound\n",
    "class Comparable[T: object]:  # T must be a subclass of object\n",
    "    def compare(self, other: T) -> bool:\n",
    "        return self == other"
   ]
  },
  {
   "cell_type": "markdown",
   "id": "9425b597",
   "metadata": {},
   "source": [
    "Python 3.12+ Generic **functions** where `TypeVar` is not needed:"
   ]
  },
  {
   "cell_type": "code",
   "execution_count": 3,
   "id": "2ca77b2d",
   "metadata": {},
   "outputs": [],
   "source": [
    "# New syntax for generic functions\n",
    "def process_items[T](items: list[T]) -> list[T]:\n",
    "    return [item for item in items if item is not None]\n",
    "\n",
    "def combine[T, U](first: T, second: U) -> tuple[T, U]:\n",
    "    return (first, second)\n",
    "\n",
    "# With bounds\n",
    "def sort_numbers[T: (int, float)](numbers: list[T]) -> list[T]:\n",
    "    return sorted(numbers)"
   ]
  },
  {
   "cell_type": "markdown",
   "id": "86f9630f",
   "metadata": {},
   "source": [
    "Python 3.12+ **Type Alias** where `TypeVar` is not needed:"
   ]
  },
  {
   "cell_type": "code",
   "execution_count": 4,
   "id": "cd775d53",
   "metadata": {},
   "outputs": [],
   "source": [
    "# New syntax for generic type aliases\n",
    "type Cache[K, V] = dict[K, V]\n",
    "\n",
    "# Usage\n",
    "user_cache: Cache[int, str] = {1: \"Alice\", 2: \"Bob\"}\n"
   ]
  },
  {
   "cell_type": "markdown",
   "id": "9a0ff01f",
   "metadata": {},
   "source": [
    "Here the code to compare the old and new class defintions:"
   ]
  },
  {
   "cell_type": "code",
   "execution_count": 5,
   "id": "4abbdf5b",
   "metadata": {},
   "outputs": [],
   "source": [
    "# Old way (Python < 3.12)\n",
    "from typing import TypeVar, Generic\n",
    "\n",
    "T = TypeVar('T')\n",
    "\n",
    "class Stack(Generic[T]):\n",
    "    def __init__(self) -> None:\n",
    "        self._items: list[T] = []\n",
    "    \n",
    "    def push(self, item: T) -> None:\n",
    "        self._items.append(item)\n",
    "    \n",
    "    def pop(self) -> T:\n",
    "        return self._items.pop()\n",
    "\n",
    "# New way (Python 3.12+)\n",
    "class Stack[T]:\n",
    "    def __init__(self) -> None:\n",
    "        self._items: list[T] = []\n",
    "    \n",
    "    def push(self, item: T) -> None:\n",
    "        self._items.append(item)\n",
    "    \n",
    "    def pop(self) -> T:\n",
    "        return self._items.pop()"
   ]
  },
  {
   "cell_type": "markdown",
   "id": "387fc095",
   "metadata": {},
   "source": [
    "Compare old and new function defintions:"
   ]
  },
  {
   "cell_type": "code",
   "execution_count": null,
   "id": "ee3649a4",
   "metadata": {},
   "outputs": [],
   "source": [
    "# Old way\n",
    "from typing import TypeVar\n",
    "\n",
    "T = TypeVar('T')\n",
    "\n",
    "def first_item(items: list[T]) -> T | None:\n",
    "    return items[0] if items else None\n",
    "\n",
    "# New way\n",
    "def first_item[T](items: list[T]) -> T | None:\n",
    "    return items[0] if items else None"
   ]
  },
  {
   "cell_type": "markdown",
   "id": "786e1305",
   "metadata": {},
   "source": [
    "### Bounded and restricted TypeVar\n",
    "- restricted: TypeVar accepts extra positional arguments to restrict the type parameter.\n",
    "- Use the subtypes of the TypeVar\n",
    "\n",
    "Bounded example:"
   ]
  },
  {
   "cell_type": "code",
   "execution_count": 28,
   "id": "00e41795",
   "metadata": {},
   "outputs": [],
   "source": [
    "from collections.abc import Iterable, Hashable\n",
    "from typing import TypeVar\n",
    "\n",
    "T = TypeVar('T', bound=Hashable)\n",
    "\n",
    "class Container(Generic[T]):\n",
    "    def __init__(self, value: T) -> None:\n",
    "        self.value = value\n",
    "\n",
    "def mode(data: Iterable[T]) -> T:\n",
    "    pass"
   ]
  },
  {
   "cell_type": "markdown",
   "id": "11b80315",
   "metadata": {},
   "source": [
    "Restricted example for old version:"
   ]
  },
  {
   "cell_type": "code",
   "execution_count": 24,
   "id": "b1559203",
   "metadata": {},
   "outputs": [],
   "source": [
    "AnyStr = TypeVar('AnyStr', bytes, str)"
   ]
  },
  {
   "cell_type": "markdown",
   "id": "445c065d",
   "metadata": {},
   "source": [
    "Bound in the new version:"
   ]
  },
  {
   "cell_type": "code",
   "execution_count": 30,
   "id": "3abe2f2f",
   "metadata": {},
   "outputs": [],
   "source": [
    "from collections.abc import Iterable, Hashable\n",
    "\n",
    "\n",
    "class Container[T: Hashable]:\n",
    "    def __init__(self, value: T) -> None:\n",
    "        self.value = value\n",
    "\n",
    "def mode[T](data: Iterable[T]) -> T:\n",
    "    pass"
   ]
  },
  {
   "cell_type": "markdown",
   "id": "924a0f9d",
   "metadata": {},
   "source": [
    "## Static Protocols\n",
    "\n",
    "In Python, when you find there is no suitable type, you can create as follows:\n",
    "\n",
    "- a protocol definition is written as a `typing.Protocol` subclass. \n",
    "- classes that implement a protocol don’t need to inherit, register, or declare any relationship with the class that defines the protocol. \n",
    "- It’s up to the type checker to find the available protocol types and enforce their usage.\n",
    "\n",
    "Here's a simple example of how to use `typing.Protocol` for structural subtyping (**duck typing**):"
   ]
  },
  {
   "cell_type": "code",
   "execution_count": 31,
   "id": "1ff99c16",
   "metadata": {},
   "outputs": [
    {
     "name": "stdout",
     "output_type": "stream",
     "text": [
      "Drawing a circle with radius 5.0\n",
      "Drawing a rectangle 10.0x20.0\n"
     ]
    }
   ],
   "source": [
    "from typing import Protocol\n",
    "\n",
    "# Define a protocol - what methods/attributes are required\n",
    "class Drawable(Protocol):\n",
    "    def draw(self) -> None:\n",
    "        \"\"\"Draw the object\"\"\"\n",
    "        ...\n",
    "\n",
    "# Classes that satisfy the protocol (no inheritance needed!)\n",
    "class Circle:\n",
    "    def __init__(self, radius: float):\n",
    "        self.radius = radius\n",
    "    \n",
    "    def draw(self) -> None:\n",
    "        print(f\"Drawing a circle with radius {self.radius}\")\n",
    "\n",
    "class Rectangle:\n",
    "    def __init__(self, width: float, height: float):\n",
    "        self.width = width\n",
    "        self.height = height\n",
    "    \n",
    "    def draw(self) -> None:\n",
    "        print(f\"Drawing a rectangle {self.width}x{self.height}\")\n",
    "\n",
    "# Function that works with any Drawable\n",
    "def render_shape(shape: Drawable) -> None:\n",
    "    shape.draw()\n",
    "\n",
    "# Usage - both classes work because they implement draw()\n",
    "circle = Circle(5.0)\n",
    "rectangle = Rectangle(10.0, 20.0)\n",
    "\n",
    "render_shape(circle)     # Drawing a circle with radius 5.0\n",
    "render_shape(rectangle)  # Drawing a rectangle 10.0x20.0"
   ]
  },
  {
   "cell_type": "markdown",
   "id": "ba926ce8",
   "metadata": {},
   "source": [
    "The method `render can be updated with TypeVar"
   ]
  },
  {
   "cell_type": "code",
   "execution_count": 35,
   "id": "dad9b0a0",
   "metadata": {},
   "outputs": [
    {
     "name": "stdout",
     "output_type": "stream",
     "text": [
      "Drawing a circle with radius 5.0\n",
      "Drawing a rectangle 10.0x20.0\n"
     ]
    }
   ],
   "source": [
    "from typing import TypeVar\n",
    "\n",
    "# Create a TypeVar bounded by the protocol\n",
    "T = TypeVar('T', bound=Drawable)\n",
    "\n",
    "# Generic function using TypeVar - returns the same type it receives\n",
    "def render_shape(shape: T) -> T:\n",
    "    shape.draw()\n",
    "    return shape  # Can return the same type\n",
    "\n",
    "# Usage\n",
    "circle = Circle(5.0)\n",
    "rectangle = Rectangle(10.0, 20.0)\n",
    "\n",
    "# Type checker knows the return type matches input type\n",
    "returned_circle = render_shape(circle)       # Type: Circle\n",
    "returned_rectangle = render_shape(rectangle) # Type: Rectangle"
   ]
  },
  {
   "cell_type": "markdown",
   "id": "30e609da",
   "metadata": {},
   "source": [
    "## Examples\n",
    "The simplest example of using PyDantic model in LangGraph. Schema for the structured model:"
   ]
  },
  {
   "cell_type": "code",
   "execution_count": 56,
   "id": "0ecdc200",
   "metadata": {},
   "outputs": [],
   "source": [
    "from langchain_openai import ChatOpenAI\n",
    "from pydantic import BaseModel, Field\n",
    "from typing import Annotated\n",
    "\n",
    "llm = ChatOpenAI(model=\"gpt-4o\", temperature=0.0)\n",
    "class SearchQuery(BaseModel):\n",
    "    query:Annotated[str\n",
    "        , Field(description=\"Web search query\")]\n",
    "    justification:Annotated[str\n",
    "        , Field(description=\"Justification for the search query relevancy\")]\n"
   ]
  },
  {
   "cell_type": "markdown",
   "id": "3eadc4fb",
   "metadata": {},
   "source": [
    "In the above code, the model is `SearcjQuery` created with PyDantic. Augment the LLM with schema for structured output by binding the Schema to LLM:"
   ]
  },
  {
   "cell_type": "code",
   "execution_count": null,
   "id": "3dd7aa03",
   "metadata": {},
   "outputs": [
    {
     "name": "stdout",
     "output_type": "stream",
     "text": [
      "output.query ='What is the capital of France?'\n",
      "output.justification ='The user is traveling and needs to know the capital city of France, which is a common travel-related query.'\n"
     ]
    }
   ],
   "source": [
    "from langgraph.pregel.main import Output\n",
    "\n",
    "struct_llm = llm.with_structured_output(SearchQuery)\n",
    "\n",
    "# invoke\n",
    "output= struct_llm.invoke(\"I am travelling. What is the capital of France?\")\n",
    "print(f'{output.query =}'\n",
    "      ,f'{output.justification =}'\n",
    "      ,sep='\\n') "
   ]
  },
  {
   "cell_type": "markdown",
   "id": "56dd2899",
   "metadata": {},
   "source": [
    "This is the second example, to create a improved poem:"
   ]
  },
  {
   "cell_type": "code",
   "execution_count": 93,
   "id": "47155dca",
   "metadata": {
    "tags": [
     "remove_input"
    ]
   },
   "outputs": [
    {
     "data": {
      "text/markdown": [
       "```python\n",
       "from typing import TypedDict\n",
       "from langchain_openai import ChatOpenAI\n",
       "\n",
       "# GraphState\n",
       "class State(TypedDict):\n",
       "    topic: str\n",
       "    poem: str\n",
       "    improved_poem: str\n",
       "    final_poem: str\n",
       "\n",
       "def generate_poem(state: State) -> State:\n",
       "    # Generate a poem based on the topic\n",
       "    msg = llm.invoke(f\"Write a poem about {state['topic']}\")\n",
       "    state['poem'] = msg.content\n",
       "    return state\n",
       "\n",
       "def improve_poem(state: State) -> State:\n",
       "    # Improve the poem\n",
       "    msg = llm.invoke(f\"Improve this poem: {state['poem']}\")\n",
       "    state['improved_poem'] = msg.content\n",
       "    return state\n",
       "\n",
       "def finalize_poem(state: State) -> State:\n",
       "    # Finalize the poem\n",
       "    msg = llm.invoke(f\"Finalize this poem: {state['improved_poem']}\")\n",
       "    state['final_poem'] = msg.content\n",
       "    return state\n",
       "\n",
       "def check_poem(state: State) -> str:\n",
       "    # Check the poem\n",
       "    msg = llm.invoke(f\"Is this poem is good or bad?: {state['poem']}\")\n",
       "    if \"poem is good\" in msg.content:\n",
       "        return \"Fail\"\n",
       "    else:\n",
       "        return \"Pass\"\n",
       "from itertools import chain\n",
       "from langgraph.graph import StateGraph, END, START\n",
       "from IPython.display import Image, display\n",
       "\n",
       "llm = ChatOpenAI(model=\"gpt-4o\", temperature=0.0)\n",
       "# Build workflow\n",
       "workflow = StateGraph(State)\n",
       "\n",
       "workflow.add_node(\"generate_poem\", generate_poem)\n",
       "workflow.add_node(\"improve_poem\", improve_poem)\n",
       "workflow.add_node(\"finalize_poem\", finalize_poem)\n",
       "\n",
       "workflow.add_edge(START, \"generate_poem\")\n",
       "workflow.add_conditional_edges(\"generate_poem\"\n",
       "    , check_poem, {\"Pass\": \"improve_poem\", \"Fail\": END})\n",
       "workflow.add_edge(\"improve_poem\", \"finalize_poem\")\n",
       "workflow.add_edge(\"finalize_poem\", END)\n",
       "\n",
       "graph = workflow.compile()    \n",
       "```"
      ],
      "text/plain": [
       "<IPython.core.display.Markdown object>"
      ]
     },
     "metadata": {},
     "output_type": "display_data"
    }
   ],
   "source": [
    "from IPython.display import Markdown, display\n",
    "\n",
    "def show_py_file(filepath):\n",
    "    \"\"\"Display Python file contents as markdown code block\"\"\"\n",
    "    try:\n",
    "        with open(filepath, 'r', encoding='utf-8') as file:\n",
    "            content = file.read()\n",
    "        \n",
    "        # Create markdown with python syntax highlighting\n",
    "        markdown_content = f\"```python\\n{content}\\n```\"\n",
    "        display(Markdown(markdown_content))\n",
    "    except FileNotFoundError:\n",
    "        print(f\"File not found: {filepath}\")\n",
    "    except Exception as e:\n",
    "        print(f\"Error reading file: {e}\")\n",
    "\n",
    "# Usage\n",
    "show_py_file('./agents/example1/Example2Agent.py')"
   ]
  },
  {
   "cell_type": "code",
   "execution_count": 99,
   "id": "28baaede",
   "metadata": {
    "tags": [
     "remove_input"
    ]
   },
   "outputs": [
    {
     "data": {
      "image/png": "[encoded data removed]",
      "text/plain": [
       "<IPython.core.display.Image object>"
      ]
     },
     "metadata": {},
     "output_type": "display_data"
    }
   ],
   "source": [
    "from IPython.display import Image, display\n",
    "from agents.example1.Example2Agent import graph as ex2graph\n",
    "\n",
    "image_data =ex2graph.get_graph().draw_mermaid_png()\n",
    "display(Image(image_data))"
   ]
  },
  {
   "cell_type": "markdown",
   "id": "5f3b38a1",
   "metadata": {},
   "source": [
    "When you debug in the LangSmit:\n",
    "\n",
    "![TypedDict use for the state management](/assets/images/2025-09-06-Python_Type_Annotation/TypedDic_State_in_LangGraph.jpg)"
   ]
  },
  {
   "cell_type": "markdown",
   "id": "085def05",
   "metadata": {},
   "source": [
    "[^1]: [Function Tools - Pydantic AI](https://ai.pydantic.dev/tools/){:target=\"_blank\"}\n",
    "\n",
    "[^2]: [8. Type Hints in Functions \\| Fluent Python, 2nd Edition](https://learning.oreilly.com/library/view/fluent-python-2nd/9781492056348/ch08.html#dealing_with_none_sec){:target=\"_blank\"}\n",
    "\n",
    "[^3]: [5. Type Annotations \\| Python in a Nutshell, 4th Edition](https://learning.oreilly.com/library/view/python-in-a/9781098113544/ch05.html#other_type_checkers){:target=\"_blank\"}\n",
    "\n",
    "[^4]: [pydantic/pydantic: Data validation using Python type hints](https://github.com/pydantic/pydantic){:target=\"_blank\"}\n",
    "\n",
    "[course_1]: https://learn.deeplearning.ai/accomplishments/3b751958-2e9b-4d13-a568-00d972faadb2?usp=sharing \"Pydantic for LLM Workflows - DeepLearning.AI\"\n",
    "\n",
    "{:gtxt: .message color=\"green\"}\n",
    "\n",
    "{:rtxt: .message color=\"red\"}"
   ]
  }
 ],
 "metadata": {
  "kernelspec": {
   "display_name": "learn-langgraph",
   "language": "python",
   "name": "python3"
  },
  "language_info": {
   "codemirror_mode": {
    "name": "ipython",
    "version": 3
   },
   "file_extension": ".py",
   "mimetype": "text/x-python",
   "name": "python",
   "nbconvert_exporter": "python",
   "pygments_lexer": "ipython3",
   "version": "3.13.5"
  }
 },
 "nbformat": 4,
 "nbformat_minor": 5
}
